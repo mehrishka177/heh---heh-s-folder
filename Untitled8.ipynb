{
  "nbformat": 4,
  "nbformat_minor": 0,
  "metadata": {
    "colab": {
      "provenance": [],
      "authorship_tag": "ABX9TyM4eC1dgbygRkgiBS7kkKBo",
      "include_colab_link": true
    },
    "kernelspec": {
      "name": "python3",
      "display_name": "Python 3"
    },
    "language_info": {
      "name": "python"
    }
  },
  "cells": [
    {
      "cell_type": "markdown",
      "metadata": {
        "id": "view-in-github",
        "colab_type": "text"
      },
      "source": [
        "<a href=\"https://colab.research.google.com/github/mehrishka177/heh---heh-s-folder/blob/main/Untitled8.ipynb\" target=\"_parent\"><img src=\"https://colab.research.google.com/assets/colab-badge.svg\" alt=\"Open In Colab\"/></a>"
      ]
    },
    {
      "cell_type": "code",
      "execution_count": null,
      "metadata": {
        "id": "YSvsJUeWVaGq"
      },
      "outputs": [],
      "source": [
        "SELECT *\n",
        "FROM employees AS e;  -- 'employees' table is aliased as 'e'\n",
        "\n",
        "SELECT e.name, d.department_name\n",
        "FROM employees AS e\n",
        "JOIN departments AS d ON e.department_id = d.department_id;\n",
        "\n",
        "SELECT first_name AS fname, last_name AS lname\n",
        "FROM employees;\n",
        "\n",
        "SELECT salary * 1.1 AS new_salary\n",
        "FROM employees;\n",
        "\n",
        "SELECT salary, salary * 1.1 AS new_salary\n",
        "FROM employees;\n",
        "\n",
        "SELECT e.name, e.salary\n",
        "FROM (SELECT name, salary FROM employees) AS e;\n",
        "\n",
        "SELECT department_id, COUNT(*) AS total_employees\n",
        "FROM employees\n",
        "GROUP BY department_id;\n",
        "\n",
        "SELECT e.first_name AS employee_name, d.department_name\n",
        "FROM employees AS e\n",
        "JOIN departments AS d ON e.department_id = d.department_id\n",
        "WHERE e.salary > 50000;"
      ]
    },
    {
      "cell_type": "code",
      "source": [
        "| e.id | e.name     | e.salary | e.department_id |\n",
        "|------|------------|----------|-----------------|\n",
        "| 1    | John Doe   | 50000    | 1               |\n",
        "| 2    | Jane Smith | 55000    | 2               |"
      ],
      "metadata": {
        "id": "Io9vKNPCVeh8"
      },
      "execution_count": null,
      "outputs": []
    },
    {
      "cell_type": "code",
      "source": [
        "| fname | lname  |\n",
        "|-------|--------|\n",
        "| John  | Doe    |\n",
        "| Jane  | Smith  |"
      ],
      "metadata": {
        "id": "o8fS5FagVhqG"
      },
      "execution_count": null,
      "outputs": []
    },
    {
      "cell_type": "code",
      "source": [
        "| new_salary |\n",
        "|------------|\n",
        "| 55000      |\n",
        "| 60500      |"
      ],
      "metadata": {
        "id": "J4YHd7kQVieV"
      },
      "execution_count": null,
      "outputs": []
    },
    {
      "cell_type": "code",
      "source": [
        "| employee_name | department_name |\n",
        "|---------------|-----------------|\n",
        "| Jane          | Marketing       |\n",
        "| Alice         | IT              |"
      ],
      "metadata": {
        "id": "APXNp_mVVl7e"
      },
      "execution_count": null,
      "outputs": []
    },
    {
      "cell_type": "code",
      "source": [
        "| employee_name | department_name |\n",
        "|---------------|-----------------|\n",
        "| Jane          | Marketing       |\n",
        "| Alice         | IT              |"
      ],
      "metadata": {
        "id": "-cywfHpuVohI"
      },
      "execution_count": null,
      "outputs": []
    }
  ]
}