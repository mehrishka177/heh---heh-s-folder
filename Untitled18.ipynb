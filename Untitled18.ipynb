{
  "nbformat": 4,
  "nbformat_minor": 0,
  "metadata": {
    "colab": {
      "provenance": [],
      "authorship_tag": "ABX9TyNw7MOWz1+GQuRa6wpWg6/k",
      "include_colab_link": true
    },
    "kernelspec": {
      "name": "python3",
      "display_name": "Python 3"
    },
    "language_info": {
      "name": "python"
    }
  },
  "cells": [
    {
      "cell_type": "markdown",
      "metadata": {
        "id": "view-in-github",
        "colab_type": "text"
      },
      "source": [
        "<a href=\"https://colab.research.google.com/github/mehrishka177/heh---heh-s-folder/blob/main/Untitled18.ipynb\" target=\"_parent\"><img src=\"https://colab.research.google.com/assets/colab-badge.svg\" alt=\"Open In Colab\"/></a>"
      ]
    },
    {
      "cell_type": "code",
      "execution_count": null,
      "metadata": {
        "id": "qmor7ElvLmsV"
      },
      "outputs": [],
      "source": [
        "import numpy as np\n",
        "\n",
        "# Sample dataset: rows = students, columns = scores in [Math, Science, English]\n",
        "scores = np.array([\n",
        "    [88, 92, 85],\n",
        "    [76, 85, 80],\n",
        "    [93, 89, 90],\n",
        "    [85, 87, 88],\n",
        "    [70, 75, 78]\n",
        "])\n",
        "\n",
        "# Column names\n",
        "subjects = ['Math', 'Science', 'English']\n",
        "\n",
        "# Mean score for each subject\n",
        "mean_scores = np.mean(scores, axis=0)\n",
        "print(\"Mean scores:\", dict(zip(subjects, mean_scores)))\n",
        "\n",
        "# Median score for each subject\n",
        "median_scores = np.median(scores, axis=0)\n",
        "print(\"Median scores:\", dict(zip(subjects, median_scores)))\n",
        "\n",
        "# Standard deviation for each subject\n",
        "std_devs = np.std(scores, axis=0)\n",
        "print(\"Standard deviation:\", dict(zip(subjects, std_devs)))\n",
        "\n",
        "# Normalize scores (z-score normalization)\n",
        "normalized_scores = (scores - mean_scores) / std_devs\n",
        "print(\"Normalized scores:\\n\", normalized_scores)\n",
        "\n",
        "# Find the student with the highest total score\n",
        "total_scores = np.sum(scores, axis=1)\n",
        "top_student_index = np.argmax(total_scores)\n",
        "print(f\"Top student index: {top_student_index}, Total Score: {total_scores[top_student_index]}\")\n"
      ]
    }
  ]
}