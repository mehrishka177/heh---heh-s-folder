{
  "nbformat": 4,
  "nbformat_minor": 0,
  "metadata": {
    "colab": {
      "provenance": [],
      "authorship_tag": "ABX9TyMPxukyN/93c7G7dAHvB1H+",
      "include_colab_link": true
    },
    "kernelspec": {
      "name": "python3",
      "display_name": "Python 3"
    },
    "language_info": {
      "name": "python"
    }
  },
  "cells": [
    {
      "cell_type": "markdown",
      "metadata": {
        "id": "view-in-github",
        "colab_type": "text"
      },
      "source": [
        "<a href=\"https://colab.research.google.com/github/mehrishka177/heh---heh-s-folder/blob/main/Untitled10.ipynb\" target=\"_parent\"><img src=\"https://colab.research.google.com/assets/colab-badge.svg\" alt=\"Open In Colab\"/></a>"
      ]
    },
    {
      "cell_type": "code",
      "execution_count": null,
      "metadata": {
        "id": "unMofK91O15k"
      },
      "outputs": [],
      "source": [
        "def is_power_of_8(n):\n",
        "    if n <= 0:\n",
        "        return False\n",
        "    while n % 8 == 0:\n",
        "        n = n // 8\n",
        "    return n == 1\n",
        "\n",
        "# Example usage\n",
        "number = int(input(\"Enter a number: \"))\n",
        "if is_power_of_8(number):\n",
        "    print(f\"{number} is a power of 8.\")\n",
        "else:\n",
        "    print(f\"{number} is not a power of 8.\")\n"
      ]
    }
  ]
}