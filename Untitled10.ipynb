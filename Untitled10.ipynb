{
  "nbformat": 4,
  "nbformat_minor": 0,
  "metadata": {
    "colab": {
      "provenance": [],
      "authorship_tag": "ABX9TyNwCGpDiUmdC3+EKlWywsBE",
      "include_colab_link": true
    },
    "kernelspec": {
      "name": "python3",
      "display_name": "Python 3"
    },
    "language_info": {
      "name": "python"
    }
  },
  "cells": [
    {
      "cell_type": "markdown",
      "metadata": {
        "id": "view-in-github",
        "colab_type": "text"
      },
      "source": [
        "<a href=\"https://colab.research.google.com/github/mehrishka177/heh---heh-s-folder/blob/main/Untitled10.ipynb\" target=\"_parent\"><img src=\"https://colab.research.google.com/assets/colab-badge.svg\" alt=\"Open In Colab\"/></a>"
      ]
    },
    {
      "cell_type": "code",
      "execution_count": null,
      "metadata": {
        "id": "aOjf7hSMXzXW"
      },
      "outputs": [],
      "source": [
        "# List of students with name, height (in cm), and class\n",
        "students = [\n",
        "{\"name\": \"Alice\", \"height\": 160, \"class\": \"10A\"},\n",
        "{\"name\": \"Bob\", \"height\": 150, \"class\": \"10B\"},\n",
        "{\"name\": \"Charlie\", \"height\": 155, \"class\": \"10A\"},\n",
        "{\"name\": \"David\", \"height\": 145, \"class\": \"10C\"},\n",
        "{\"name\": \"Eva\", \"height\": 165, \"class\": \"10B\"},\n",
        "]\n",
        "# Sort the students list by height in ascending order\n",
        "students.sort(key=lambda student: student[\"height\"])\n",
        "# Print the sorted list\n",
        "print(\"Students sorted by height (ascending):\")\n",
        "for student in students:\n",
        "print(f\"Name: {student['name']}, Height: {student['height']} cm, Class: {student['class']}\")"
      ]
    }
  ]
}