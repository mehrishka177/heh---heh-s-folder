{
  "nbformat": 4,
  "nbformat_minor": 0,
  "metadata": {
    "colab": {
      "provenance": [],
      "authorship_tag": "ABX9TyNDMqxpyrbD6fjrerXNoSIa",
      "include_colab_link": true
    },
    "kernelspec": {
      "name": "python3",
      "display_name": "Python 3"
    },
    "language_info": {
      "name": "python"
    }
  },
  "cells": [
    {
      "cell_type": "markdown",
      "metadata": {
        "id": "view-in-github",
        "colab_type": "text"
      },
      "source": [
        "<a href=\"https://colab.research.google.com/github/mehrishka177/heh---heh-s-folder/blob/main/Untitled11.ipynb\" target=\"_parent\"><img src=\"https://colab.research.google.com/assets/colab-badge.svg\" alt=\"Open In Colab\"/></a>"
      ]
    },
    {
      "cell_type": "code",
      "execution_count": null,
      "metadata": {
        "id": "8y4auTaDPasR"
      },
      "outputs": [],
      "source": [
        "import numpy as np\n",
        "\n",
        "\n",
        "a = np.array([1, 2, 3])\n",
        "b = np.array([[1, 2], [3, 4]])\n",
        "\n",
        "zeros = np.zeros((2, 3))\n",
        "ones = np.ones((2, 3))\n",
        "full = np.full((2, 3), 7)\n",
        "\n",
        "rand_uniform = np.random.rand(2, 2)\n",
        "rand_normal = np.random.randn(2, 2)\n",
        "\n",
        "reshaped = np.arange(12).reshape(3, 4)\n",
        "flattened = reshaped.flatten()\n",
        "\n",
        "slice_example = reshaped[1:, 1:3]\n",
        "\n",
        "x = np.array([1, 2, 3])\n",
        "y = np.array([4, 5, 6])\n",
        "\n",
        "sum_xy = x + y\n",
        "product = x * y\n",
        "dot_product = np.dot(x, y)\n",
        "\n",
        "mean_val = np.mean(x)\n",
        "max_val = np.max(x)\n",
        "sum_val = np.sum(x)\n",
        "\n",
        "mask = x > 1\n",
        "filtered = x[mask]\n",
        "\n",
        "broadcast_example = x + 10\n",
        "\n",
        "matrix = np.array([[1, 2], [3, 4]])\n",
        "transpose = matrix.T\n",
        "inverse = np.linalg.inv(matrix)\n",
        "\n",
        "print(\"Original array a:\", a)\n",
        "print(\"Matrix b:\\n\", b)\n",
        "print(\"Zeros:\\n\", zeros)\n",
        "print(\"Random normal:\\n\", rand_normal)\n",
        "print(\"Reshaped array:\\n\", reshaped)\n",
        "print(\"Sliced portion:\\n\", slice_example)\n",
        "print(\"Sum of x and y:\", sum_xy)\n",
        "print(\"Dot product:\", dot_product)\n",
        "print(\"Mean of x:\", mean_val)\n",
        "print(\"Filtered values from x > 1:\", filtered)\n",
        "print(\"Broadcast result:\", broadcast_example)\n",
        "print(\"Transpose:\\n\", transpose)\n",
        "print(\"Inverse of matrix:\\n\", inverse)\n"
      ]
    }
  ]
}