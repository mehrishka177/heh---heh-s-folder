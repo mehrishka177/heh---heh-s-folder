{
  "nbformat": 4,
  "nbformat_minor": 0,
  "metadata": {
    "colab": {
      "provenance": [],
      "authorship_tag": "ABX9TyPB1AXc6ktjPNdTavBa3ltU",
      "include_colab_link": true
    },
    "kernelspec": {
      "name": "python3",
      "display_name": "Python 3"
    },
    "language_info": {
      "name": "python"
    }
  },
  "cells": [
    {
      "cell_type": "markdown",
      "metadata": {
        "id": "view-in-github",
        "colab_type": "text"
      },
      "source": [
        "<a href=\"https://colab.research.google.com/github/mehrishka177/heh---heh-s-folder/blob/main/Untitled13.ipynb\" target=\"_parent\"><img src=\"https://colab.research.google.com/assets/colab-badge.svg\" alt=\"Open In Colab\"/></a>"
      ]
    },
    {
      "cell_type": "code",
      "execution_count": null,
      "metadata": {
        "id": "xsaCwtGfb1PZ"
      },
      "outputs": [],
      "source": [
        "import pandas as pd\n",
        "\n",
        "# Sample data\n",
        "data = {\n",
        "    'Name': ['Alice', 'Bob', 'Charlie', 'David', 'Eve'],\n",
        "    'Age': [25, 30, 35, 40, 29],\n",
        "    'Department': ['HR', 'Engineering', 'Engineering', 'HR', 'Marketing'],\n",
        "    'Salary': [50000, 60000, 70000, 55000, 52000]\n",
        "}\n",
        "\n",
        "# Create a DataFrame\n",
        "df = pd.DataFrame(data)\n",
        "\n",
        "# Filtering: Get employees in the Engineering department\n",
        "engineering_df = df[df['Department'] == 'Engineering']\n",
        "\n",
        "# Adding a new column: Salary after 10% raise\n",
        "df['Salary_After_Raise'] = df['Salary'] * 1.10\n",
        "\n",
        "# Grouping: Average salary by department\n",
        "avg_salary_by_dept = df.groupby('Department')['Salary'].mean().reset_index()\n",
        "\n",
        "# Sorting: By salary descending\n",
        "sorted_df = df.sort_values(by='Salary', ascending=False)\n",
        "\n",
        "# Display results\n",
        "print(\"Original DataFrame with new column:\")\n",
        "print(df)\n",
        "print(\"\\nEngineering Department Employees:\")\n",
        "print(engineering_df)\n",
        "print(\"\\nAverage Salary by Department:\")\n",
        "print(avg_salary_by_dept)\n",
        "print(\"\\nSorted by Salary (descending):\")\n",
        "print(sorted_df)\n"
      ]
    }
  ]
}